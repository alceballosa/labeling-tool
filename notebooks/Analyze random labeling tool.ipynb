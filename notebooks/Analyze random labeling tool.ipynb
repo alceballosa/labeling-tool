{
 "cells": [
  {
   "cell_type": "code",
   "execution_count": 1,
   "metadata": {},
   "outputs": [],
   "source": [
    "%matplotlib inline\n",
    "import sys, os, time\n",
    "import datetime\n",
    "from collections import defaultdict, Counter\n",
    "\n",
    "import numpy as np\n",
    "import pandas as pd\n",
    "\n",
    "import matplotlib.pyplot as plt\n",
    "from mpl_toolkits.axes_grid1 import make_axes_locatable\n",
    "\n",
    "from azure.cosmosdb.table.tableservice import TableService\n",
    "from azure.cosmosdb.table.models import Entity\n",
    "\n",
    "import rasterio"
   ]
  },
  {
   "cell_type": "code",
   "execution_count": 2,
   "metadata": {},
   "outputs": [],
   "source": [
    "f = open(\"../setup_table_storage.sh\")\n",
    "lines = f.read().strip().split(\"\\n\")\n",
    "AZURE_ACCOUNT_NAME = lines[0][26:]\n",
    "AZURE_ACCOUNT_KEY = lines[1][25:]\n",
    "f.close()"
   ]
  },
  {
   "cell_type": "code",
   "execution_count": 3,
   "metadata": {},
   "outputs": [],
   "source": [
    "def assert_cnf_shape(cnf):\n",
    "    assert len(cnf.shape) == 2\n",
    "    assert cnf.shape[0] == cnf.shape[1]\n",
    "    assert np.all(cnf>=0)\n",
    "    \n",
    "def confusion_matrix(y_true, y_pred, class_values):\n",
    "    ''' y_true and y_pred should either be equally sized 1D or 2D arrays where entries indicate class values\n",
    "    \n",
    "    cnf[i,j] will be the number of entries that are labeled as class_values[i] in y_true, and labeled as class_values[j] in y_pred\n",
    "    '''\n",
    "    if isinstance(y_true, list):\n",
    "        assert isinstance(y_pred, list)\n",
    "        y_true = np.array(y_true)\n",
    "        y_pred = np.array(y_pred)\n",
    "        assert len(y_true.shape) == 1 and len(y_pred.shape) == 1\n",
    "    \n",
    "    assert len(y_true.shape) == len(y_pred.shape)\n",
    "    assert len(y_true.shape) <= 2 #\n",
    "    for i in range(len(y_true.shape)):\n",
    "        assert y_true.shape[i] == y_pred.shape[i]\n",
    "    \n",
    "    cnf = np.zeros((len(class_values), len(class_values)), dtype=np.int)\n",
    "    \n",
    "    for i in range(len(class_values)):\n",
    "        class_i = class_values[i]\n",
    "        mask = (y_true==class_i)\n",
    "        for j in range(len(class_values)):\n",
    "            class_j = class_values[j]\n",
    "            cnf[i,j] = np.sum(mask & (y_pred==class_j))\n",
    "    return cnf    \n",
    "\n",
    "def mean_per_class_accuracy(cnf):\n",
    "    assert_cnf_shape(cnf)\n",
    "    \n",
    "    accuracies = []\n",
    "    for i in range(cnf.shape[0]):\n",
    "        row_sum = np.sum(cnf[i,:])\n",
    "        if row_sum != 0:\n",
    "            accuracies.append(cnf[i,i] / row_sum)\n",
    "    return np.mean(accuracies)\n",
    "\n",
    "def miou(cnf):\n",
    "    assert_cnf_shape(cnf)\n",
    "    \n",
    "    ious = []\n",
    "    for i in range(cnf.shape[0]):\n",
    "        iou = cnf[i,i] / (np.sum(cnf[i,:] + np.sum(cnf[:,i]) - cnf[i,i]))\n",
    "        ious.append(iou)\n",
    "    return np.mean(ious)\n",
    "\n",
    "def accuracy(cnf):\n",
    "    assert_cnf_shape(cnf)\n",
    "    \n",
    "    num_correct = 0\n",
    "    for i in range(cnf.shape[0]):\n",
    "        num_correct += cnf[i,i]\n",
    "    \n",
    "    return num_correct / np.sum(cnf)"
   ]
  },
  {
   "cell_type": "code",
   "execution_count": 4,
   "metadata": {},
   "outputs": [],
   "source": [
    "def parse_task(task):\n",
    "\n",
    "    neighborhood = np.array(list(map(int,task[\"neighborhood_19m\"].split(\",\")))).reshape(19,19) \n",
    "    ground_truth_label = neighborhood[9,9]\n",
    "    \n",
    "    row = {\n",
    "        \"client_ip\": task[\"client_ip\"],\n",
    "        \"time_out\": datetime.datetime.strptime(task[\"out_time\"], \"%c\"),\n",
    "        \"time_in\": datetime.datetime.strptime(task[\"in_time\"], \"%c\"),\n",
    "        \"naip_fn\": task[\"file_name\"],\n",
    "        \"x\": int(task[\"x\"]),\n",
    "        \"y\": int(task[\"y\"]),\n",
    "        \"size\": int(task[\"size\"]),\n",
    "        \"user_label\": int(task[\"user_label\"]),\n",
    "        \"ground_truth_label\": ground_truth_label,\n",
    "        \"number_of_times_labeled\": int(task[\"number_of_times_labeled\"])\n",
    "    }\n",
    "    \n",
    "    return row"
   ]
  },
  {
   "cell_type": "code",
   "execution_count": 5,
   "metadata": {},
   "outputs": [],
   "source": [
    "table_service = TableService(account_name=AZURE_ACCOUNT_NAME, account_key=AZURE_ACCOUNT_KEY)"
   ]
  },
  {
   "cell_type": "code",
   "execution_count": 6,
   "metadata": {},
   "outputs": [],
   "source": [
    "all_tasks = table_service.query_entities('randomlabeltool')\n",
    "all_tasks = [parse_task(task) for task in all_tasks]"
   ]
  },
  {
   "cell_type": "code",
   "execution_count": 7,
   "metadata": {},
   "outputs": [
    {
     "data": {
      "text/plain": [
       "11169"
      ]
     },
     "execution_count": 7,
     "metadata": {},
     "output_type": "execute_result"
    }
   ],
   "source": [
    "len(all_tasks)"
   ]
  },
  {
   "cell_type": "code",
   "execution_count": 8,
   "metadata": {},
   "outputs": [
    {
     "data": {
      "text/plain": [
       "5980"
      ]
     },
     "execution_count": 8,
     "metadata": {},
     "output_type": "execute_result"
    }
   ],
   "source": [
    "tasks = [task for task in all_tasks if \"md_1m_2013_extended-train_tiles\" in task[\"naip_fn\"]]\n",
    "len(tasks)"
   ]
  },
  {
   "cell_type": "code",
   "execution_count": 9,
   "metadata": {},
   "outputs": [
    {
     "name": "stdout",
     "output_type": "stream",
     "text": [
      "45 unique ips\n"
     ]
    }
   ],
   "source": [
    "ip_counts = defaultdict(int)\n",
    "for task in tasks:\n",
    "    ip_counts[task[\"client_ip\"]] += 1\n",
    "sorted_ips = sorted(ip_counts, key=ip_counts.get)\n",
    "print(\"%d unique ips\" % (len(sorted_ips)))\n",
    "# xs = []\n",
    "# ys = []\n",
    "# for ip in sorted_ips:\n",
    "#     xs.append(ip)\n",
    "#     ys.append(ip_counts[ip])\n",
    "    \n",
    "# plt.figure(figsize=(4,9))\n",
    "# plt.barh(np.arange(len(xs)), ys)\n",
    "# plt.yticks(np.arange(len(xs)), xs)\n",
    "# plt.xlabel(\"Number of entries\")\n",
    "# plt.title(\"%d unique ips\" % (len(ip_counts)))\n",
    "# plt.show()\n",
    "# plt.close()"
   ]
  },
  {
   "cell_type": "code",
   "execution_count": 10,
   "metadata": {},
   "outputs": [
    {
     "data": {
      "image/png": "[encoded data removed]",
      "text/plain": [
       "<Figure size 432x288 with 1 Axes>"
      ]
     },
     "metadata": {},
     "output_type": "display_data"
    },
    {
     "data": {
      "image/png": "[encoded data removed]",
      "text/plain": [
       "<Figure size 432x288 with 1 Axes>"
      ]
     },
     "metadata": {},
     "output_type": "display_data"
    }
   ],
   "source": [
    "user_labels = []\n",
    "gt_labels = []\n",
    "for task in tasks:\n",
    "    user_labels.append(task[\"user_label\"])\n",
    "    gt_labels.append(task[\"ground_truth_label\"])\n",
    "\n",
    "xs, ys = np.unique(user_labels, return_counts=True)\n",
    "plt.figure()\n",
    "plt.bar(xs, ys)\n",
    "plt.xticks(xs)\n",
    "plt.title(\"User labels distribution\")\n",
    "plt.show()\n",
    "plt.close()\n",
    "\n",
    "xs, ys = np.unique(gt_labels, return_counts=True)\n",
    "plt.figure()\n",
    "plt.bar(xs, ys)\n",
    "plt.xticks(xs)\n",
    "plt.title(\"Ground truth labels distribution\")\n",
    "plt.show()\n",
    "plt.close()"
   ]
  },
  {
   "cell_type": "markdown",
   "metadata": {},
   "source": [
    "# Filter bad users"
   ]
  },
  {
   "cell_type": "code",
   "execution_count": 11,
   "metadata": {},
   "outputs": [],
   "source": [
    "user_points = defaultdict(list)\n",
    "\n",
    "for task in tasks:\n",
    "    user_points[task[\"client_ip\"]].append(task)"
   ]
  },
  {
   "cell_type": "markdown",
   "metadata": {},
   "source": [
    "### Filter users with < 50 labels"
   ]
  },
  {
   "cell_type": "code",
   "execution_count": 12,
   "metadata": {},
   "outputs": [
    {
     "name": "stdout",
     "output_type": "stream",
     "text": [
      "Filtered 13 users\n"
     ]
    }
   ],
   "source": [
    "t_user_points = {}\n",
    "num_filtered = 0\n",
    "for k, vs in user_points.items():\n",
    "    if len(vs) >= 50:\n",
    "        t_user_points[k] = vs\n",
    "    else:\n",
    "        num_filtered += 1\n",
    "user_points = t_user_points\n",
    "print(\"Filtered %d users\" % (num_filtered))"
   ]
  },
  {
   "cell_type": "markdown",
   "metadata": {},
   "source": [
    "### Filter users with < 0.7 accuracy with ground truth"
   ]
  },
  {
   "cell_type": "code",
   "execution_count": 13,
   "metadata": {},
   "outputs": [
    {
     "name": "stdout",
     "output_type": "stream",
     "text": [
      "Filtered 0 users\n"
     ]
    }
   ],
   "source": [
    "t_user_points = {}\n",
    "all_time_deltas = []\n",
    "num_filtered = 0\n",
    "\n",
    "user_table = {\n",
    "    \"client_ip\": [],\n",
    "    \"median label time\": [],\n",
    "    \"mean label time\": [],\n",
    "    \"num unsure\": [],\n",
    "    \"num water\": [],\n",
    "    \"num forest\": [],\n",
    "    \"num field\": [],\n",
    "    \"num built\": [],\n",
    "    \"num total\": [],\n",
    "    \"acc with gt (ignoring unsure)\": []\n",
    "}\n",
    "\n",
    "for k, vs in user_points.items():\n",
    "    \n",
    "    user_labels = []\n",
    "    gt_labels = []\n",
    "    time_deltas = []\n",
    "    for task in vs:\n",
    "        user_labels.append(task[\"user_label\"])\n",
    "        gt_labels.append(task[\"ground_truth_label\"])\n",
    "        \n",
    "        time_delta = task[\"time_in\"] - task[\"time_out\"]\n",
    "        time_deltas.append(time_delta.seconds)\n",
    "        all_time_deltas.append(time_delta.seconds)\n",
    "    \n",
    "    user_label_counts = Counter(user_labels)\n",
    "    \n",
    "    user_labels = np.array(user_labels)\n",
    "    gt_labels = np.array(gt_labels)    \n",
    "    mask = user_labels != -1\n",
    "    user_labels = user_labels[mask]\n",
    "    gt_labels = gt_labels[mask]\n",
    "    acc = np.sum(user_labels==gt_labels)/len(gt_labels)\n",
    "    \n",
    "    \n",
    "    user_table[\"client_ip\"].append(k)\n",
    "    user_table[\"median label time\"].append(np.median(time_deltas))\n",
    "    user_table[\"mean label time\"].append(np.mean(time_deltas))\n",
    "    user_table[\"num unsure\"].append(user_label_counts.get(-1,0))\n",
    "    user_table[\"num water\"].append(user_label_counts.get(1,0))\n",
    "    user_table[\"num forest\"].append(user_label_counts.get(2,0))\n",
    "    user_table[\"num field\"].append(user_label_counts.get(3,0))\n",
    "    user_table[\"num built\"].append(user_label_counts.get(4,0))\n",
    "    user_table[\"num total\"].append(len(user_labels))\n",
    "    user_table[\"acc with gt (ignoring unsure)\"].append(acc)\n",
    "    \n",
    "    \n",
    "    if acc >= 0.7:\n",
    "        t_user_points[k] = vs\n",
    "    else:\n",
    "        num_filtered += 1\n",
    "    \n",
    "user_points = t_user_points\n",
    "print(\"Filtered %d users\" % (num_filtered))"
   ]
  },
  {
   "cell_type": "code",
   "execution_count": 14,
   "metadata": {},
   "outputs": [],
   "source": [
    "user_table = pd.DataFrame.from_dict(user_table)"
   ]
  },
  {
   "cell_type": "code",
   "execution_count": 15,
   "metadata": {},
   "outputs": [
    {
     "data": {
      "text/plain": [
       "137.5"
      ]
     },
     "execution_count": 15,
     "metadata": {},
     "output_type": "execute_result"
    }
   ],
   "source": [
    "user_table[\"num total\"].median()"
   ]
  },
  {
   "cell_type": "code",
   "execution_count": 16,
   "metadata": {},
   "outputs": [
    {
     "data": {
      "image/png": "[encoded data removed]",
      "text/plain": [
       "<Figure size 432x288 with 1 Axes>"
      ]
     },
     "metadata": {},
     "output_type": "display_data"
    }
   ],
   "source": [
    "plt.figure()\n",
    "plt.hist(all_time_deltas, bins=np.arange(0, 30))\n",
    "plt.xlabel(\"Seconds\")\n",
    "plt.ylabel(\"Frequency\")\n",
    "plt.title(\"Labeling time distribution\")\n",
    "plt.show()\n",
    "plt.close()"
   ]
  },
  {
   "cell_type": "code",
   "execution_count": 17,
   "metadata": {},
   "outputs": [
    {
     "data": {
      "text/plain": [
       "6.523158434455649"
      ]
     },
     "execution_count": 17,
     "metadata": {},
     "output_type": "execute_result"
    }
   ],
   "source": [
    "np.mean(all_time_deltas)"
   ]
  },
  {
   "cell_type": "code",
   "execution_count": 18,
   "metadata": {},
   "outputs": [
    {
     "data": {
      "text/plain": [
       "3.0"
      ]
     },
     "execution_count": 18,
     "metadata": {},
     "output_type": "execute_result"
    }
   ],
   "source": [
    "np.median(all_time_deltas)"
   ]
  },
  {
   "cell_type": "markdown",
   "metadata": {},
   "source": [
    "# Point analysis"
   ]
  },
  {
   "cell_type": "code",
   "execution_count": 19,
   "metadata": {},
   "outputs": [
    {
     "name": "stdout",
     "output_type": "stream",
     "text": [
      "5851\n"
     ]
    }
   ],
   "source": [
    "filtered_tasks = []\n",
    "for k, vs in user_points.items():\n",
    "    for task in vs:\n",
    "        filtered_tasks.append(task)\n",
    "print(len(filtered_tasks))"
   ]
  },
  {
   "cell_type": "code",
   "execution_count": 20,
   "metadata": {},
   "outputs": [
    {
     "data": {
      "image/png": "[encoded data removed]",
      "text/plain": [
       "<Figure size 432x288 with 1 Axes>"
      ]
     },
     "metadata": {},
     "output_type": "display_data"
    },
    {
     "name": "stdout",
     "output_type": "stream",
     "text": [
      "1808\n"
     ]
    }
   ],
   "source": [
    "points = defaultdict(list)\n",
    "for task in filtered_tasks:\n",
    "    idx = \"%s_%d_%d\" % (task[\"naip_fn\"], task[\"x\"], task[\"y\"])\n",
    "    points[idx].append(task)\n",
    "    \n",
    "counts = []\n",
    "for k, vs in points.items():\n",
    "    counts.append(len(vs))\n",
    "\n",
    "xs, ys = np.unique(counts, return_counts=True)\n",
    "plt.figure()\n",
    "plt.bar(xs, ys)\n",
    "plt.show()\n",
    "plt.close()\n",
    "\n",
    "print(len(points))"
   ]
  },
  {
   "cell_type": "code",
   "execution_count": 21,
   "metadata": {
    "scrolled": false
   },
   "outputs": [
    {
     "name": "stdout",
     "output_type": "stream",
     "text": [
      "16 73 853 917\n",
      "0.9302071973827699\n"
     ]
    }
   ],
   "source": [
    "def get_majority(labels):\n",
    "    vals, counts = np.unique(labels, return_counts=True)\n",
    "    \n",
    "    count_tuples = list(zip(vals, counts))\n",
    "    \n",
    "    sorted_vals = sorted(count_tuples, key=lambda x: x[1], reverse=True)\n",
    "\n",
    "    if len(sorted_vals) == 1:\n",
    "        return sorted_vals[0][0]\n",
    "    else:\n",
    "        total_sum = np.sum(counts)\n",
    "        if sorted_vals[0][1] > (total_sum - sorted_vals[0][1]):\n",
    "            return sorted_vals[0][0]\n",
    "        else:\n",
    "            return -2\n",
    "\n",
    "num_unsure = 0\n",
    "num_no_majority = 0\n",
    "\n",
    "num_agree_majority = 0\n",
    "num_total_majority = 0\n",
    "\n",
    "all_user_labels = []\n",
    "all_gt_labels = []\n",
    "\n",
    "example_points = defaultdict(list)\n",
    "\n",
    "for k, vs in points.items():\n",
    "    if len(vs) >= 3:\n",
    "        \n",
    "        user_labels = []\n",
    "        gt_labels = []\n",
    "        for point in vs:\n",
    "            user_labels.append(point[\"user_label\"])\n",
    "            gt_labels.append(point[\"ground_truth_label\"])\n",
    "        \n",
    "        vals = np.unique(gt_labels)\n",
    "        assert len(vals) == 1\n",
    "        gt_label = vals[0]\n",
    "        \n",
    "        true_label = get_majority(user_labels)\n",
    "        \n",
    "        all_user_labels.append(true_label)\n",
    "        all_gt_labels.append(gt_label)\n",
    "        \n",
    "        example_points[(true_label, gt_label)].append(vs[0])\n",
    "        \n",
    "        if true_label == -1: # The \"Not sure\" class was the majority\n",
    "            num_unsure += 1\n",
    "        elif true_label == -2: # There was no majority:\n",
    "            num_no_majority += 1\n",
    "        else:\n",
    "        \n",
    "            if true_label == gt_label:\n",
    "                num_agree_majority += 1\n",
    "            num_total_majority += 1\n",
    "\n",
    "print(num_unsure, num_no_majority, num_agree_majority, num_total_majority)\n",
    "print(num_agree_majority / (num_total_majority))"
   ]
  },
  {
   "cell_type": "code",
   "execution_count": 22,
   "metadata": {},
   "outputs": [
    {
     "data": {
      "image/png": "[encoded data removed]",
      "text/plain": [
       "<Figure size 432x288 with 2 Axes>"
      ]
     },
     "metadata": {},
     "output_type": "display_data"
    }
   ],
   "source": [
    "cnf = confusion_matrix(all_gt_labels, all_user_labels, [-2,-1,1,2,3,4])\n",
    "#cnf = cnf / cnf.sum(axis=1, keepdims=True)\n",
    "\n",
    "fig, ax = plt.subplots(figsize=(6,4))\n",
    "\n",
    "im = ax.imshow(cnf, vmin=0, vmax=None, cmap=\"Blues\")\n",
    "\n",
    "plt.ylim([5.5,1.5])\n",
    "plt.yticks(np.arange(2,6), [\"Water\", \"Forest\", \"Field\", \"Built\"])\n",
    "plt.ylabel(\"CC Label\", fontsize=15)\n",
    "plt.xlabel(\"Majority vote user label\", fontsize=15)\n",
    "plt.xticks(np.arange(6), [\"No Majority\", \"Not Sure\", \"Water\", \"Forest\", \"Field\", \"Built\"], rotation=90)\n",
    "\n",
    "for i in range(2,6):\n",
    "    for j in range(6):\n",
    "        plt.text(j,i,\"%d\" % (cnf[i,j]), horizontalalignment=\"center\", verticalalignment=\"center\")\n",
    "\n",
    "plt.suptitle(\"Maryland - confusion matrix\", fontsize=15)\n",
    "plt.title(\"(counts)\", fontsize=12)\n",
    "divider = make_axes_locatable(ax)\n",
    "cax = divider.append_axes(\"right\", size=\"5%\", pad=0.05)\n",
    "plt.colorbar(im, cax=cax)\n",
    "\n",
    "plt.show()\n",
    "plt.close()"
   ]
  },
  {
   "cell_type": "code",
   "execution_count": 23,
   "metadata": {},
   "outputs": [
    {
     "data": {
      "image/png": "[encoded data removed]",
      "text/plain": [
       "<Figure size 432x288 with 2 Axes>"
      ]
     },
     "metadata": {},
     "output_type": "display_data"
    }
   ],
   "source": [
    "cnf = confusion_matrix(all_gt_labels, all_user_labels, [1,2,3,4])\n",
    "cnf = cnf / cnf.sum(axis=1, keepdims=True)\n",
    "\n",
    "fig, ax = plt.subplots(figsize=(6,4))\n",
    "\n",
    "im = ax.imshow(cnf, vmin=0, vmax=1, cmap=\"Blues\")\n",
    "\n",
    "plt.ylim([3.5,-0.5])\n",
    "plt.yticks(np.arange(4), [\"Water\", \"Forest\", \"Field\", \"Built\"])\n",
    "plt.ylabel(\"CC Label\", fontsize=15)\n",
    "plt.xlabel(\"Majority vote user label\", fontsize=15)\n",
    "plt.xticks(np.arange(4), [\"Water\", \"Forest\", \"Field\", \"Built\"], rotation=90)\n",
    "\n",
    "for i in range(4):\n",
    "    for j in range(4):\n",
    "        plt.text(j,i,\"%0.2f\" % (cnf[i,j]), horizontalalignment=\"center\", verticalalignment=\"center\")\n",
    "\n",
    "plt.title(\"(row normalized)\", fontsize=12)\n",
    "plt.suptitle(\"Maryland - confusion matrix\",fontsize=15)\n",
    "divider = make_axes_locatable(ax)\n",
    "cax = divider.append_axes(\"right\", size=\"5%\", pad=0.05)\n",
    "plt.colorbar(im, cax=cax)\n",
    "\n",
    "plt.show()\n",
    "plt.close()"
   ]
  },
  {
   "cell_type": "code",
   "execution_count": 24,
   "metadata": {},
   "outputs": [],
   "source": [
    "cnf = confusion_matrix(all_gt_labels, all_user_labels, [1,2,3,4])"
   ]
  },
  {
   "cell_type": "code",
   "execution_count": 25,
   "metadata": {},
   "outputs": [
    {
     "name": "stdout",
     "output_type": "stream",
     "text": [
      "0.9302071973827699\n",
      "0.9038835994984176\n",
      "0.6739215388026325\n"
     ]
    }
   ],
   "source": [
    "print(accuracy(cnf))\n",
    "print(mean_per_class_accuracy(cnf))\n",
    "print(miou(cnf))"
   ]
  },
  {
   "cell_type": "code",
   "execution_count": 26,
   "metadata": {},
   "outputs": [
    {
     "data": {
      "text/plain": [
       "dict_keys([(3, 2), (1, 3), (-1, 2), (-1, 1), (2, 1), (2, 3), (-2, 2), (-2, 4), (4, 2), (1, 2), (-2, 1), (3, 3), (-2, 3), (3, 1), (4, 4), (1, 1), (-1, 3), (4, 3), (2, 2), (-1, 4), (3, 4), (2, 4)])"
      ]
     },
     "execution_count": 26,
     "metadata": {},
     "output_type": "execute_result"
    }
   ],
   "source": [
    "example_points.keys()"
   ]
  },
  {
   "cell_type": "code",
   "execution_count": 27,
   "metadata": {},
   "outputs": [],
   "source": [
    "def plot_point(task, zoom=0, fn=None):\n",
    "    f = rasterio.open(task[\"naip_fn\"], \"r\")\n",
    "    data = f.read()\n",
    "    data = np.rollaxis(data, 0, 3)\n",
    "    f.close()\n",
    "    \n",
    "    x,y,size = task[\"x\"], task[\"y\"], task[\"size\"]\n",
    "    \n",
    "    if zoom == 1:\n",
    "        x += 60\n",
    "        y += 60\n",
    "        size = 120\n",
    "    elif zoom == 2:\n",
    "        x += 110\n",
    "        y += 110\n",
    "        size = 20\n",
    "    \n",
    "    fig, ax = plt.subplots(figsize=(4,4))\n",
    "    \n",
    "    ax.imshow(data[y:y+size, x:x+size, :3])    \n",
    "    ax.axes.get_xaxis().set_visible(False)\n",
    "    ax.axes.get_yaxis().set_visible(False)\n",
    "    ax.set_frame_on(False)\n",
    "    \n",
    "    if fn is None:\n",
    "        plt.tight_layout()\n",
    "        plt.show()\n",
    "    else:\n",
    "        plt.savefig(fn, bbox_inches='tight', pad_inches = 0)\n",
    "    plt.close()"
   ]
  },
  {
   "cell_type": "code",
   "execution_count": null,
   "metadata": {},
   "outputs": [],
   "source": [
    "for u in [-2,-1,1,2,3,4]:\n",
    "    for v in [-2,-1,1,2,3,4]:\n",
    "        if u != v and len(example_points[(u,v)]) > 1:\n",
    "            for j in [0,1]:\n",
    "                plot_point(example_points[(u,v)][j], 1, \"../output/misclassification_user_%d_gt_%d_example_%d_zoom_1.png\" % (u,v,j))\n",
    "                plot_point(example_points[(u,v)][j], 2, \"../output/misclassification_user_%d_gt_%d_example_%d_zoom_2.png\" % (u,v,j))"
   ]
  }
 ],
 "metadata": {
  "kernelspec": {
   "display_name": "Python 3.5",
   "language": "python",
   "name": "python3"
  },
  "language_info": {
   "codemirror_mode": {
    "name": "ipython",
    "version": 3
   },
   "file_extension": ".py",
   "mimetype": "text/x-python",
   "name": "python",
   "nbconvert_exporter": "python",
   "pygments_lexer": "ipython3",
   "version": "3.5.5"
  }
 },
 "nbformat": 4,
 "nbformat_minor": 2
}
