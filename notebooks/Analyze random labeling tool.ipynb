{
 "cells": [
  {
   "cell_type": "code",
   "execution_count": 1,
   "metadata": {},
   "outputs": [],
   "source": [
    "%matplotlib inline\n",
    "import sys, os, time\n",
    "import datetime\n",
    "from collections import defaultdict, Counter\n",
    "\n",
    "import numpy as np\n",
    "import pandas as pd\n",
    "\n",
    "import matplotlib.pyplot as plt\n",
    "from mpl_toolkits.axes_grid1 import make_axes_locatable\n",
    "\n",
    "from azure.cosmosdb.table.tableservice import TableService\n",
    "from azure.cosmosdb.table.models import Entity\n",
    "\n",
    "import rasterio"
   ]
  },
  {
   "cell_type": "code",
   "execution_count": 2,
   "metadata": {},
   "outputs": [],
   "source": [
    "f = open(\"../setup_table_storage.sh\")\n",
    "lines = f.read().strip().split(\"\\n\")\n",
    "AZURE_ACCOUNT_NAME = lines[0][26:]\n",
    "AZURE_ACCOUNT_KEY = lines[1][25:]\n",
    "f.close()"
   ]
  },
  {
   "cell_type": "code",
   "execution_count": 3,
   "metadata": {},
   "outputs": [],
   "source": [
    "def assert_cnf_shape(cnf):\n",
    "    assert len(cnf.shape) == 2\n",
    "    assert cnf.shape[0] == cnf.shape[1]\n",
    "    assert np.all(cnf>=0)\n",
    "    \n",
    "def confusion_matrix(y_true, y_pred, class_values):\n",
    "    ''' y_true and y_pred should either be equally sized 1D or 2D arrays where entries indicate class values\n",
    "    \n",
    "    cnf[i,j] will be the number of entries that are labeled as class_values[i] in y_true, and labeled as class_values[j] in y_pred\n",
    "    '''\n",
    "    if isinstance(y_true, list):\n",
    "        assert isinstance(y_pred, list)\n",
    "        y_true = np.array(y_true)\n",
    "        y_pred = np.array(y_pred)\n",
    "        assert len(y_true.shape) == 1 and len(y_pred.shape) == 1\n",
    "    \n",
    "    assert len(y_true.shape) == len(y_pred.shape)\n",
    "    assert len(y_true.shape) <= 2 #\n",
    "    for i in range(len(y_true.shape)):\n",
    "        assert y_true.shape[i] == y_pred.shape[i]\n",
    "    \n",
    "    cnf = np.zeros((len(class_values), len(class_values)), dtype=np.int)\n",
    "    \n",
    "    for i in range(len(class_values)):\n",
    "        class_i = class_values[i]\n",
    "        mask = (y_true==class_i)\n",
    "        for j in range(len(class_values)):\n",
    "            class_j = class_values[j]\n",
    "            cnf[i,j] = np.sum(mask & (y_pred==class_j))\n",
    "    return cnf    \n",
    "\n",
    "def mean_per_class_accuracy(cnf):\n",
    "    assert_cnf_shape(cnf)\n",
    "    \n",
    "    accuracies = []\n",
    "    for i in range(cnf.shape[0]):\n",
    "        row_sum = np.sum(cnf[i,:])\n",
    "        if row_sum != 0:\n",
    "            accuracies.append(cnf[i,i] / row_sum)\n",
    "    return np.mean(accuracies)\n",
    "\n",
    "def miou(cnf):\n",
    "    assert_cnf_shape(cnf)\n",
    "    \n",
    "    ious = []\n",
    "    for i in range(cnf.shape[0]):\n",
    "        iou = cnf[i,i] / (np.sum(cnf[i,:] + np.sum(cnf[:,i]) - cnf[i,i]))\n",
    "        ious.append(iou)\n",
    "    return np.mean(ious)\n",
    "\n",
    "def accuracy(cnf):\n",
    "    assert_cnf_shape(cnf)\n",
    "    \n",
    "    num_correct = 0\n",
    "    for i in range(cnf.shape[0]):\n",
    "        num_correct += cnf[i,i]\n",
    "    \n",
    "    return num_correct / np.sum(cnf)"
   ]
  },
  {
   "cell_type": "code",
   "execution_count": 4,
   "metadata": {},
   "outputs": [],
   "source": [
    "def parse_task(task):\n",
    "\n",
    "    neighborhood = np.array(list(map(int,task[\"neighborhood_19m\"].split(\",\")))).reshape(19,19) \n",
    "    ground_truth_label = neighborhood[9,9]\n",
    "    \n",
    "    row = {\n",
    "        \"client_ip\": task[\"client_ip\"],\n",
    "        \"time_out\": datetime.datetime.strptime(task[\"out_time\"], \"%c\"),\n",
    "        \"time_in\": datetime.datetime.strptime(task[\"in_time\"], \"%c\"),\n",
    "        \"naip_fn\": task[\"file_name\"],\n",
    "        \"x\": int(task[\"x\"]),\n",
    "        \"y\": int(task[\"y\"]),\n",
    "        \"size\": int(task[\"size\"]),\n",
    "        \"user_label\": int(task[\"user_label\"]),\n",
    "        \"ground_truth_label\": ground_truth_label,\n",
    "        \"number_of_times_labeled\": int(task[\"number_of_times_labeled\"])\n",
    "    }\n",
    "    \n",
    "    return row"
   ]
  },
  {
   "cell_type": "code",
   "execution_count": 5,
   "metadata": {},
   "outputs": [],
   "source": [
    "table_service = TableService(account_name=AZURE_ACCOUNT_NAME, account_key=AZURE_ACCOUNT_KEY)"
   ]
  },
  {
   "cell_type": "code",
   "execution_count": 6,
   "metadata": {},
   "outputs": [],
   "source": [
    "all_tasks = table_service.query_entities('randomlabeltool')\n",
    "all_tasks = [parse_task(task) for task in all_tasks]"
   ]
  },
  {
   "cell_type": "code",
   "execution_count": 7,
   "metadata": {},
   "outputs": [
    {
     "data": {
      "text/plain": [
       "28973"
      ]
     },
     "execution_count": 7,
     "metadata": {},
     "output_type": "execute_result"
    }
   ],
   "source": [
    "len(all_tasks)"
   ]
  },
  {
   "cell_type": "code",
   "execution_count": 8,
   "metadata": {},
   "outputs": [
    {
     "data": {
      "text/plain": [
       "{'client_ip': '73.185.97.128',\n",
       " 'ground_truth_label': 2,\n",
       " 'naip_fn': '/mnt/afs/code/chesapeake_denver_qaqc/naip_tiles/tile_59.tif',\n",
       " 'number_of_times_labeled': 0,\n",
       " 'size': 240,\n",
       " 'time_in': datetime.datetime(2019, 8, 22, 18, 8, 40),\n",
       " 'time_out': datetime.datetime(2019, 8, 22, 18, 8, 38),\n",
       " 'user_label': 2,\n",
       " 'x': 1105,\n",
       " 'y': 845}"
      ]
     },
     "execution_count": 8,
     "metadata": {},
     "output_type": "execute_result"
    }
   ],
   "source": [
    "all_tasks[-1]"
   ]
  },
  {
   "cell_type": "code",
   "execution_count": 9,
   "metadata": {},
   "outputs": [
    {
     "data": {
      "text/plain": [
       "17798"
      ]
     },
     "execution_count": 9,
     "metadata": {},
     "output_type": "execute_result"
    }
   ],
   "source": [
    "#tasks = [task for task in all_tasks if \"md_1m_2013_extended-train_tiles\" in task[\"naip_fn\"]]\n",
    "tasks = [task for task in all_tasks if \"chesapeake_denver_qaqc\" in task[\"naip_fn\"]]\n",
    "len(tasks)"
   ]
  },
  {
   "cell_type": "code",
   "execution_count": 10,
   "metadata": {},
   "outputs": [
    {
     "name": "stdout",
     "output_type": "stream",
     "text": [
      "86 unique ips\n"
     ]
    }
   ],
   "source": [
    "ip_counts = defaultdict(int)\n",
    "for task in tasks:\n",
    "    ip_counts[task[\"client_ip\"]] += 1\n",
    "sorted_ips = sorted(ip_counts, key=ip_counts.get)\n",
    "print(\"%d unique ips\" % (len(sorted_ips)))\n",
    "# xs = []\n",
    "# ys = []\n",
    "# for ip in sorted_ips:\n",
    "#     xs.append(ip)\n",
    "#     ys.append(ip_counts[ip])\n",
    "    \n",
    "# plt.figure(figsize=(4,9))\n",
    "# plt.barh(np.arange(len(xs)), ys)\n",
    "# plt.yticks(np.arange(len(xs)), xs)\n",
    "# plt.xlabel(\"Number of entries\")\n",
    "# plt.title(\"%d unique ips\" % (len(ip_counts)))\n",
    "# plt.show()\n",
    "# plt.close()"
   ]
  },
  {
   "cell_type": "code",
   "execution_count": 11,
   "metadata": {},
   "outputs": [
    {
     "data": {
      "image/png": "[encoded data removed]",
      "text/plain": [
       "<Figure size 432x288 with 1 Axes>"
      ]
     },
     "metadata": {},
     "output_type": "display_data"
    },
    {
     "data": {
      "image/png": "[encoded data removed]",
      "text/plain": [
       "<Figure size 432x288 with 1 Axes>"
      ]
     },
     "metadata": {},
     "output_type": "display_data"
    }
   ],
   "source": [
    "user_labels = []\n",
    "gt_labels = []\n",
    "for task in tasks:\n",
    "    user_labels.append(task[\"user_label\"])\n",
    "    gt_labels.append(task[\"ground_truth_label\"])\n",
    "\n",
    "xs, ys = np.unique(user_labels, return_counts=True)\n",
    "plt.figure()\n",
    "plt.bar(xs, ys)\n",
    "plt.xticks(xs)\n",
    "plt.title(\"User labels distribution\")\n",
    "plt.show()\n",
    "plt.close()\n",
    "\n",
    "xs, ys = np.unique(gt_labels, return_counts=True)\n",
    "plt.figure()\n",
    "plt.bar(xs, ys)\n",
    "plt.xticks(xs)\n",
    "plt.title(\"Ground truth labels distribution\")\n",
    "plt.show()\n",
    "plt.close()"
   ]
  },
  {
   "cell_type": "markdown",
   "metadata": {},
   "source": [
    "# Filter bad users"
   ]
  },
  {
   "cell_type": "code",
   "execution_count": 23,
   "metadata": {},
   "outputs": [],
   "source": [
    "user_points = defaultdict(list)\n",
    "\n",
    "for task in tasks:\n",
    "    user_points[task[\"client_ip\"]].append(task)"
   ]
  },
  {
   "cell_type": "markdown",
   "metadata": {},
   "source": [
    "### Filter users with < 50 labels"
   ]
  },
  {
   "cell_type": "code",
   "execution_count": 24,
   "metadata": {},
   "outputs": [
    {
     "name": "stdout",
     "output_type": "stream",
     "text": [
      "Filtered 23 users\n"
     ]
    }
   ],
   "source": [
    "t_user_points = {}\n",
    "num_filtered = 0\n",
    "for k, vs in user_points.items():\n",
    "    if len(vs) >= 50:\n",
    "        t_user_points[k] = vs\n",
    "    else:\n",
    "        num_filtered += 1\n",
    "user_points = t_user_points\n",
    "print(\"Filtered %d users\" % (num_filtered))"
   ]
  },
  {
   "cell_type": "markdown",
   "metadata": {},
   "source": [
    "### Filter users with < 0.7 accuracy with ground truth"
   ]
  },
  {
   "cell_type": "code",
   "execution_count": 25,
   "metadata": {},
   "outputs": [
    {
     "name": "stdout",
     "output_type": "stream",
     "text": [
      "Filtered 25 users\n"
     ]
    }
   ],
   "source": [
    "t_user_points = {}\n",
    "all_time_deltas = []\n",
    "num_filtered = 0\n",
    "\n",
    "user_table = {\n",
    "    \"client_ip\": [],\n",
    "    \"median label time\": [],\n",
    "    \"mean label time\": [],\n",
    "    \"num unsure\": [],\n",
    "    \"num water\": [],\n",
    "    \"num forest\": [],\n",
    "    \"num field\": [],\n",
    "    \"num built\": [],\n",
    "    \"num total\": [],\n",
    "    \"acc with gt (ignoring unsure)\": []\n",
    "}\n",
    "\n",
    "for k, vs in user_points.items():\n",
    "    \n",
    "    user_labels = []\n",
    "    gt_labels = []\n",
    "    time_deltas = []\n",
    "    for task in vs:\n",
    "        user_labels.append(task[\"user_label\"])\n",
    "        gt_labels.append(task[\"ground_truth_label\"])\n",
    "        \n",
    "        time_delta = task[\"time_in\"] - task[\"time_out\"]\n",
    "        time_deltas.append(time_delta.seconds)\n",
    "        all_time_deltas.append(time_delta.seconds)\n",
    "    \n",
    "    user_label_counts = Counter(user_labels)\n",
    "    \n",
    "    user_labels = np.array(user_labels)\n",
    "    gt_labels = np.array(gt_labels)    \n",
    "    mask = user_labels != -1\n",
    "    user_labels = user_labels[mask]\n",
    "    gt_labels = gt_labels[mask]\n",
    "    acc = np.sum(user_labels==gt_labels)/len(gt_labels)\n",
    "    \n",
    "    \n",
    "    user_table[\"client_ip\"].append(k)\n",
    "    user_table[\"median label time\"].append(np.median(time_deltas))\n",
    "    user_table[\"mean label time\"].append(np.mean(time_deltas))\n",
    "    user_table[\"num unsure\"].append(user_label_counts.get(-1,0))\n",
    "    user_table[\"num water\"].append(user_label_counts.get(1,0))\n",
    "    user_table[\"num forest\"].append(user_label_counts.get(2,0))\n",
    "    user_table[\"num field\"].append(user_label_counts.get(3,0))\n",
    "    user_table[\"num built\"].append(user_label_counts.get(4,0))\n",
    "    user_table[\"num total\"].append(len(user_labels))\n",
    "    user_table[\"acc with gt (ignoring unsure)\"].append(acc)\n",
    "    \n",
    "    \n",
    "    if acc >= 0.6:\n",
    "        t_user_points[k] = vs\n",
    "    else:\n",
    "        num_filtered += 1\n",
    "    \n",
    "user_points = t_user_points\n",
    "print(\"Filtered %d users\" % (num_filtered))"
   ]
  },
  {
   "cell_type": "code",
   "execution_count": 26,
   "metadata": {},
   "outputs": [
    {
     "data": {
      "text/plain": [
       "Counter({-1: 21, 1: 37, 2: 67, 3: 3, 4: 23, 5: 41, 6: 26, 7: 16})"
      ]
     },
     "execution_count": 26,
     "metadata": {},
     "output_type": "execute_result"
    }
   ],
   "source": [
    "user_label_counts"
   ]
  },
  {
   "cell_type": "code",
   "execution_count": 27,
   "metadata": {},
   "outputs": [],
   "source": [
    "user_table = pd.DataFrame.from_dict(user_table)"
   ]
  },
  {
   "cell_type": "code",
   "execution_count": 28,
   "metadata": {},
   "outputs": [
    {
     "data": {
      "text/plain": [
       "0.636"
      ]
     },
     "execution_count": 28,
     "metadata": {},
     "output_type": "execute_result"
    }
   ],
   "source": [
    "user_table[\"acc with gt (ignoring unsure)\"].median()"
   ]
  },
  {
   "cell_type": "code",
   "execution_count": 29,
   "metadata": {},
   "outputs": [
    {
     "data": {
      "text/plain": [
       "168.0"
      ]
     },
     "execution_count": 29,
     "metadata": {},
     "output_type": "execute_result"
    }
   ],
   "source": [
    "user_table[\"num total\"].median()"
   ]
  },
  {
   "cell_type": "code",
   "execution_count": 30,
   "metadata": {},
   "outputs": [
    {
     "data": {
      "image/png": "[encoded data removed]",
      "text/plain": [
       "<Figure size 432x288 with 1 Axes>"
      ]
     },
     "metadata": {},
     "output_type": "display_data"
    }
   ],
   "source": [
    "plt.figure()\n",
    "plt.hist(all_time_deltas, bins=np.arange(0, 30))\n",
    "plt.xlabel(\"Seconds\")\n",
    "plt.ylabel(\"Frequency\")\n",
    "plt.title(\"Labeling time distribution\")\n",
    "plt.show()\n",
    "plt.close()"
   ]
  },
  {
   "cell_type": "code",
   "execution_count": 31,
   "metadata": {},
   "outputs": [
    {
     "data": {
      "text/plain": [
       "13.629414805030724"
      ]
     },
     "execution_count": 31,
     "metadata": {},
     "output_type": "execute_result"
    }
   ],
   "source": [
    "np.mean(all_time_deltas)"
   ]
  },
  {
   "cell_type": "code",
   "execution_count": 32,
   "metadata": {},
   "outputs": [
    {
     "data": {
      "text/plain": [
       "3.0"
      ]
     },
     "execution_count": 32,
     "metadata": {},
     "output_type": "execute_result"
    }
   ],
   "source": [
    "np.median(all_time_deltas)"
   ]
  },
  {
   "cell_type": "markdown",
   "metadata": {},
   "source": [
    "# Point analysis"
   ]
  },
  {
   "cell_type": "code",
   "execution_count": 33,
   "metadata": {},
   "outputs": [
    {
     "name": "stdout",
     "output_type": "stream",
     "text": [
      "10576\n"
     ]
    }
   ],
   "source": [
    "filtered_tasks = []\n",
    "for k, vs in user_points.items():\n",
    "    for task in vs:\n",
    "        filtered_tasks.append(task)\n",
    "print(len(filtered_tasks))"
   ]
  },
  {
   "cell_type": "code",
   "execution_count": 34,
   "metadata": {},
   "outputs": [
    {
     "data": {
      "image/png": "[encoded data removed]",
      "text/plain": [
       "<Figure size 432x288 with 1 Axes>"
      ]
     },
     "metadata": {},
     "output_type": "display_data"
    },
    {
     "name": "stdout",
     "output_type": "stream",
     "text": [
      "3522\n"
     ]
    }
   ],
   "source": [
    "points = defaultdict(list)\n",
    "for task in filtered_tasks:\n",
    "    idx = \"%s_%d_%d\" % (task[\"naip_fn\"], task[\"x\"], task[\"y\"])\n",
    "    points[idx].append(task)\n",
    "    \n",
    "counts = []\n",
    "for k, vs in points.items():\n",
    "    counts.append(len(vs))\n",
    "\n",
    "xs, ys = np.unique(counts, return_counts=True)\n",
    "plt.figure()\n",
    "plt.bar(xs, ys)\n",
    "plt.show()\n",
    "plt.close()\n",
    "\n",
    "print(len(points))"
   ]
  },
  {
   "cell_type": "code",
   "execution_count": 91,
   "metadata": {
    "scrolled": false
   },
   "outputs": [
    {
     "name": "stdout",
     "output_type": "stream",
     "text": [
      "74 116 865 1179\n",
      "0.7336726039016115\n"
     ]
    }
   ],
   "source": [
    "def get_majority(labels):\n",
    "    vals, counts = np.unique(labels, return_counts=True)\n",
    "    \n",
    "    count_tuples = list(zip(vals, counts))\n",
    "    \n",
    "    sorted_vals = sorted(count_tuples, key=lambda x: x[1], reverse=True)\n",
    "\n",
    "    if len(sorted_vals) == 1:\n",
    "        return sorted_vals[0][0]\n",
    "    else:\n",
    "        total_sum = np.sum(counts)\n",
    "        if sorted_vals[0][1] > (total_sum - sorted_vals[0][1]):\n",
    "            return sorted_vals[0][0]\n",
    "        else:\n",
    "            return -2\n",
    "\n",
    "num_unsure = 0\n",
    "num_no_majority = 0\n",
    "\n",
    "num_agree_majority = 0\n",
    "num_total_majority = 0\n",
    "\n",
    "all_user_labels = []\n",
    "all_gt_labels = []\n",
    "\n",
    "example_points = defaultdict(list)\n",
    "\n",
    "for k, vs in points.items():\n",
    "    if len(vs) == 3 or len(vs) == 5:\n",
    "        \n",
    "        user_labels = []\n",
    "        gt_labels = []\n",
    "        for point in vs:\n",
    "            user_labels.append(point[\"user_label\"])\n",
    "            gt_labels.append(point[\"ground_truth_label\"])\n",
    "        \n",
    "        vals = np.unique(gt_labels)\n",
    "        assert len(vals) == 1\n",
    "        gt_label = vals[0]\n",
    "        \n",
    "        true_label = get_majority(user_labels)\n",
    "        \n",
    "        all_user_labels.append(true_label)\n",
    "        all_gt_labels.append(gt_label)\n",
    "        \n",
    "        example_points[(true_label, gt_label)].append(vs[0])\n",
    "        \n",
    "        if true_label == -1: # The \"Not sure\" class was the majority\n",
    "            num_unsure += 1\n",
    "        elif true_label == -2: # There was no majority:\n",
    "            num_no_majority += 1\n",
    "        else:\n",
    "        \n",
    "            if true_label == gt_label:\n",
    "                num_agree_majority += 1\n",
    "            num_total_majority += 1\n",
    "\n",
    "print(num_unsure, num_no_majority, num_agree_majority, num_total_majority)\n",
    "print(num_agree_majority / (num_total_majority))"
   ]
  },
  {
   "cell_type": "code",
   "execution_count": 92,
   "metadata": {},
   "outputs": [
    {
     "data": {
      "text/plain": [
       "3522"
      ]
     },
     "execution_count": 92,
     "metadata": {},
     "output_type": "execute_result"
    }
   ],
   "source": [
    "len(points)"
   ]
  },
  {
   "cell_type": "code",
   "execution_count": 93,
   "metadata": {},
   "outputs": [],
   "source": [
    "chesapeake_labels = [\"Water\", \"Forest\", \"Field\", \"Built\"]\n",
    "denver_labels = [\"Structures\", \"Impervious Surfaces\", \"Water\", \"Grassland/Prairie\", \"Tree Canopy\", \"Turf/Irrigated Lands\", \"Barren/Rock\"]"
   ]
  },
  {
   "cell_type": "code",
   "execution_count": 96,
   "metadata": {},
   "outputs": [
    {
     "data": {
      "image/png": "[encoded data removed]",
      "text/plain": [
       "<Figure size 432x288 with 2 Axes>"
      ]
     },
     "metadata": {},
     "output_type": "display_data"
    }
   ],
   "source": [
    "cnf = confusion_matrix(all_gt_labels, all_user_labels, [-2,-1,1,2,3,4,5,6,7])\n",
    "#cnf = cnf / cnf.sum(axis=1, keepdims=True)\n",
    "\n",
    "fig, ax = plt.subplots(figsize=(6,4))\n",
    "\n",
    "im = ax.imshow(cnf, vmin=0, vmax=None, cmap=\"Blues\")\n",
    "\n",
    "plt.ylim([8.5,1.5])\n",
    "plt.yticks(np.arange(2,9), denver_labels)\n",
    "plt.ylabel(\"CC Label\", fontsize=15)\n",
    "plt.xlabel(\"Majority vote user label\", fontsize=15)\n",
    "plt.xticks(np.arange(9), [\"No Majority\", \"Not Sure\"] + denver_labels, rotation=90)\n",
    "\n",
    "for i in range(2,9):\n",
    "    for j in range(9):\n",
    "        plt.text(j,i,\"%d\" % (cnf[i,j]), horizontalalignment=\"center\", verticalalignment=\"center\")\n",
    "\n",
    "plt.suptitle(\"Denver - confusion matrix\", fontsize=15)\n",
    "plt.title(\"(counts)\", fontsize=12)\n",
    "divider = make_axes_locatable(ax)\n",
    "cax = divider.append_axes(\"right\", size=\"5%\", pad=0.05)\n",
    "plt.colorbar(im, cax=cax)\n",
    "\n",
    "plt.show()\n",
    "plt.close()"
   ]
  },
  {
   "cell_type": "code",
   "execution_count": 97,
   "metadata": {},
   "outputs": [
    {
     "data": {
      "text/plain": [
       "array([[  0,   0,   0,   0,   0,   0,   0,   0,   0],\n",
       "       [  0,   0,   0,   0,   0,   0,   0,   0,   0],\n",
       "       [  7,   4, 145,   3,   0,   0,   3,   0,   1],\n",
       "       [ 16,  20,  34, 260,   0,   1,  21,   2,   6],\n",
       "       [  0,   0,   0,   0,  11,   2,   1,   0,   0],\n",
       "       [ 35,  11,   1,  10,   0, 176,  16,  12,  63],\n",
       "       [ 21,  19,   9,   5,   0,   6, 169,  14,   1],\n",
       "       [ 34,  18,  16,  10,   1,  12,  45,  84,   1],\n",
       "       [  3,   2,   5,   5,   0,   5,   0,   3,  20]])"
      ]
     },
     "execution_count": 97,
     "metadata": {},
     "output_type": "execute_result"
    }
   ],
   "source": [
    "cnf"
   ]
  },
  {
   "cell_type": "code",
   "execution_count": 95,
   "metadata": {},
   "outputs": [
    {
     "data": {
      "image/png": "[encoded data removed]",
      "text/plain": [
       "<Figure size 432x288 with 2 Axes>"
      ]
     },
     "metadata": {},
     "output_type": "display_data"
    }
   ],
   "source": [
    "cnf = confusion_matrix(all_gt_labels, all_user_labels, [1,2,3,4,5,6,7])\n",
    "cnf = cnf / cnf.sum(axis=1, keepdims=True)\n",
    "\n",
    "fig, ax = plt.subplots(figsize=(6,4))\n",
    "\n",
    "im = ax.imshow(cnf, vmin=0, vmax=1, cmap=\"Blues\")\n",
    "\n",
    "plt.ylim([6.5,-0.5])\n",
    "plt.yticks(np.arange(7), denver_labels)\n",
    "plt.ylabel(\"CC Label\", fontsize=15)\n",
    "plt.xlabel(\"Majority vote user label\", fontsize=15)\n",
    "plt.xticks(np.arange(7), denver_labels, rotation=90)\n",
    "\n",
    "for i in range(7):\n",
    "    for j in range(7):\n",
    "        plt.text(j,i,(\"%.2f\" % (cnf[i,j])).lstrip('0'), horizontalalignment=\"center\", verticalalignment=\"center\")\n",
    "\n",
    "plt.title(\"(row normalized)\", fontsize=12)\n",
    "plt.suptitle(\"Denver - confusion matrix\",fontsize=15)\n",
    "divider = make_axes_locatable(ax)\n",
    "cax = divider.append_axes(\"right\", size=\"5%\", pad=0.05)\n",
    "plt.colorbar(im, cax=cax)\n",
    "\n",
    "plt.show()\n",
    "plt.close()"
   ]
  },
  {
   "cell_type": "code",
   "execution_count": 47,
   "metadata": {},
   "outputs": [
    {
     "data": {
      "image/png": "[encoded data removed]",
      "text/plain": [
       "<Figure size 432x288 with 2 Axes>"
      ]
     },
     "metadata": {},
     "output_type": "display_data"
    }
   ],
   "source": [
    "cnf = confusion_matrix(all_gt_labels, all_user_labels, [-2,-1,1,2,3,4])\n",
    "#cnf = cnf / cnf.sum(axis=1, keepdims=True)\n",
    "\n",
    "fig, ax = plt.subplots(figsize=(6,4))\n",
    "\n",
    "im = ax.imshow(cnf, vmin=0, vmax=None, cmap=\"Blues\")\n",
    "\n",
    "plt.ylim([5.5,1.5])\n",
    "plt.yticks(np.arange(2,6), [\"Water\", \"Forest\", \"Field\", \"Built\"])\n",
    "plt.ylabel(\"CC Label\", fontsize=15)\n",
    "plt.xlabel(\"Majority vote user label\", fontsize=15)\n",
    "plt.xticks(np.arange(6), [\"No Majority\", \"Not Sure\", \"Water\", \"Forest\", \"Field\", \"Built\"], rotation=90)\n",
    "\n",
    "for i in range(2,6):\n",
    "    for j in range(6):\n",
    "        plt.text(j,i,\"%d\" % (cnf[i,j]), horizontalalignment=\"center\", verticalalignment=\"center\")\n",
    "\n",
    "plt.suptitle(\"Maryland - confusion matrix\", fontsize=15)\n",
    "plt.title(\"(counts)\", fontsize=12)\n",
    "divider = make_axes_locatable(ax)\n",
    "cax = divider.append_axes(\"right\", size=\"5%\", pad=0.05)\n",
    "plt.colorbar(im, cax=cax)\n",
    "\n",
    "plt.show()\n",
    "plt.close()"
   ]
  },
  {
   "cell_type": "code",
   "execution_count": 23,
   "metadata": {},
   "outputs": [
    {
     "data": {
      "image/png": "[encoded data removed]",
      "text/plain": [
       "<Figure size 432x288 with 2 Axes>"
      ]
     },
     "metadata": {},
     "output_type": "display_data"
    }
   ],
   "source": [
    "cnf = confusion_matrix(all_gt_labels, all_user_labels, [1,2,3,4])\n",
    "cnf = cnf / cnf.sum(axis=1, keepdims=True)\n",
    "\n",
    "fig, ax = plt.subplots(figsize=(6,4))\n",
    "\n",
    "im = ax.imshow(cnf, vmin=0, vmax=1, cmap=\"Blues\")\n",
    "\n",
    "plt.ylim([3.5,-0.5])\n",
    "plt.yticks(np.arange(4), [\"Water\", \"Forest\", \"Field\", \"Built\"])\n",
    "plt.ylabel(\"CC Label\", fontsize=15)\n",
    "plt.xlabel(\"Majority vote user label\", fontsize=15)\n",
    "plt.xticks(np.arange(4), [\"Water\", \"Forest\", \"Field\", \"Built\"], rotation=90)\n",
    "\n",
    "for i in range(4):\n",
    "    for j in range(4):\n",
    "        plt.text(j,i,\"%0.2f\" % (cnf[i,j]), horizontalalignment=\"center\", verticalalignment=\"center\")\n",
    "\n",
    "plt.title(\"(row normalized)\", fontsize=12)\n",
    "plt.suptitle(\"Maryland - confusion matrix\",fontsize=15)\n",
    "divider = make_axes_locatable(ax)\n",
    "cax = divider.append_axes(\"right\", size=\"5%\", pad=0.05)\n",
    "plt.colorbar(im, cax=cax)\n",
    "\n",
    "plt.show()\n",
    "plt.close()"
   ]
  },
  {
   "cell_type": "code",
   "execution_count": 24,
   "metadata": {},
   "outputs": [],
   "source": [
    "cnf = confusion_matrix(all_gt_labels, all_user_labels, [1,2,3,4])"
   ]
  },
  {
   "cell_type": "code",
   "execution_count": 59,
   "metadata": {},
   "outputs": [
    {
     "name": "stdout",
     "output_type": "stream",
     "text": [
      "0.7431848057666004\n",
      "0.7431848057666003\n",
      "0.31277004277253645\n"
     ]
    }
   ],
   "source": [
    "print(accuracy(cnf))\n",
    "print(mean_per_class_accuracy(cnf))\n",
    "print(miou(cnf))"
   ]
  },
  {
   "cell_type": "code",
   "execution_count": 60,
   "metadata": {},
   "outputs": [
    {
     "data": {
      "text/plain": [
       "dict_keys([(7, 3), (4, 7), (-1, 5), (6, 6), (5, 6), (7, 7), (2, 1), (2, 6), (1, 6), (-2, 5), (5, 1), (2, 5), (7, 2), (1, 2), (-2, 1), (6, 7), (5, 5), (-1, 7), (7, 6), (4, 4), (1, 5), (3, 6), (2, 2), (5, 3), (1, 1), (-1, 6), (6, 4), (5, 4), (-2, 2), (7, 1), (4, 5), (-1, 2), (-1, 1), (1, 4), (7, 5), (-2, 4), (4, 2), (-2, 7), (6, 5), (3, 3), (2, 7), (4, 6), (-2, 3), (7, 4), (3, 5), (6, 2), (4, 3), (1, 7), (-1, 4), (-2, 6), (5, 2), (2, 4)])"
      ]
     },
     "execution_count": 60,
     "metadata": {},
     "output_type": "execute_result"
    }
   ],
   "source": [
    "example_points.keys()"
   ]
  },
  {
   "cell_type": "code",
   "execution_count": 58,
   "metadata": {},
   "outputs": [],
   "source": [
    "def plot_point(task, zoom=0, fn=None):\n",
    "    f = rasterio.open(task[\"naip_fn\"], \"r\")\n",
    "    data = f.read()\n",
    "    data = np.rollaxis(data, 0, 3)\n",
    "    f.close()\n",
    "    \n",
    "    x,y,size = task[\"x\"], task[\"y\"], task[\"size\"]\n",
    "    \n",
    "    if zoom == 1:\n",
    "        x += 60\n",
    "        y += 60\n",
    "        size = 120\n",
    "    elif zoom == 2:\n",
    "        x += 110\n",
    "        y += 110\n",
    "        size = 20\n",
    "    \n",
    "    fig, ax = plt.subplots(figsize=(4,4))\n",
    "    \n",
    "    ax.imshow(data[y:y+size, x:x+size, :3])    \n",
    "    ax.axes.get_xaxis().set_visible(False)\n",
    "    ax.axes.get_yaxis().set_visible(False)\n",
    "    ax.set_frame_on(False)\n",
    "    \n",
    "    if fn is None:\n",
    "        plt.tight_layout()\n",
    "        plt.show()\n",
    "    else:\n",
    "        plt.savefig(fn, bbox_inches='tight', pad_inches = 0)\n",
    "    plt.close()"
   ]
  },
  {
   "cell_type": "code",
   "execution_count": 74,
   "metadata": {},
   "outputs": [],
   "source": [
    "def plot_point_all_zoom(task, title=None, fn=None):\n",
    "    f = rasterio.open(task[\"naip_fn\"], \"r\")\n",
    "    data = f.read()\n",
    "    data = np.rollaxis(data, 0, 3)\n",
    "    f.close()\n",
    "    \n",
    "    x,y,size = task[\"x\"], task[\"y\"], task[\"size\"]\n",
    "    \n",
    "    fig, axs = plt.subplots(1,3,figsize=(8,4))\n",
    "    \n",
    "    axs[0].imshow(data[y:y+size, x:x+size, :3])\n",
    "    x += 60\n",
    "    y += 60\n",
    "    size = 120\n",
    "    axs[1].imshow(data[y:y+size, x:x+size, :3])\n",
    "    x += 50\n",
    "    y += 50\n",
    "    size = 20\n",
    "    axs[2].imshow(data[y:y+size, x:x+size, :3])\n",
    "    \n",
    "    for i in range(3):\n",
    "        axs[i].axes.get_xaxis().set_visible(False)\n",
    "        axs[i].axes.get_yaxis().set_visible(False)\n",
    "        axs[i].set_frame_on(False)\n",
    "    \n",
    "    if title is not None:\n",
    "        axs[1].set_title(title)\n",
    "    \n",
    "    if fn is None:\n",
    "        plt.tight_layout()\n",
    "        plt.show()\n",
    "    else:\n",
    "        plt.savefig(fn, bbox_inches='tight', pad_inches = 0)\n",
    "    plt.close()"
   ]
  },
  {
   "cell_type": "code",
   "execution_count": 75,
   "metadata": {},
   "outputs": [],
   "source": [
    "label_map = [\"No Majority\", \"Not Sure\"] + denver_labels \n",
    "for i,u in enumerate([-2,-1,1,2,3,4,5,6,7]):\n",
    "    for j,v in enumerate([-2,-1,1,2,3,4,5,6,7]):\n",
    "        if u != v and len(example_points[(u,v)]) > 2:\n",
    "            for k in range(3):\n",
    "                title = \"Users: %s   Data: %s\" % (label_map[i], label_map[j])\n",
    "                plot_point_all_zoom(example_points[(u,v)][k], title, \"../output/misclassification_user_%d_gt_%d_example_%d.png\" % (u,v,k))"
   ]
  },
  {
   "cell_type": "code",
   "execution_count": 29,
   "metadata": {},
   "outputs": [],
   "source": [
    "for u in [-2,-1,1,2,3,4]:\n",
    "    for v in [-2,-1,1,2,3,4]:\n",
    "        if u == v and len(example_points[(u,v)]) > 1:\n",
    "            for j in [0,1]:\n",
    "                plot_point(example_points[(u,v)][j], 1, \"../output/agreement_%d_example_%d_zoom_1.png\" % (u,j))\n",
    "                plot_point(example_points[(u,v)][j], 2, \"../output/agreement_%d_example_%d_zoom_2.png\" % (u,j))"
   ]
  },
  {
   "cell_type": "code",
   "execution_count": null,
   "metadata": {},
   "outputs": [],
   "source": []
  }
 ],
 "metadata": {
  "kernelspec": {
   "display_name": "Python 3.5",
   "language": "python",
   "name": "python3"
  },
  "language_info": {
   "codemirror_mode": {
    "name": "ipython",
    "version": 3
   },
   "file_extension": ".py",
   "mimetype": "text/x-python",
   "name": "python",
   "nbconvert_exporter": "python",
   "pygments_lexer": "ipython3",
   "version": "3.5.5"
  }
 },
 "nbformat": 4,
 "nbformat_minor": 2
}
